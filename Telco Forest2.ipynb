{
 "cells": [
  {
   "cell_type": "code",
   "execution_count": 2,
   "metadata": {},
   "outputs": [],
   "source": [
    "import numpy as np\n",
    "import pandas as pd\n",
    "import matplotlib.pyplot as plt\n",
    "import seaborn as sns\n",
    "\n",
    "from sklearn.model_selection import train_test_split, cross_val_score\n",
    "from sklearn.feature_selection import RFECV\n",
    "from sklearn.ensemble import RandomForestClassifier\n",
    "from sklearn.metrics import confusion_matrix\n",
    "import warnings\n",
    "warnings.filterwarnings(\"ignore\")"
   ]
  },
  {
   "cell_type": "markdown",
   "metadata": {},
   "source": [
    "# Import and prepare data"
   ]
  },
  {
   "cell_type": "code",
   "execution_count": 5,
   "metadata": {},
   "outputs": [],
   "source": [
    "data_path = \"/Users/danielbrand/Documents/Uni/Master/2. Semester/Artificial Intelligence & Robotics/Final Project/telco_final.csv\"\n",
    "data = pd.read_csv(data_path)"
   ]
  },
  {
   "cell_type": "code",
   "execution_count": 6,
   "metadata": {},
   "outputs": [
    {
     "data": {
      "text/plain": [
       "No     5163\n",
       "Yes    1869\n",
       "Name: churn, dtype: int64"
      ]
     },
     "execution_count": 6,
     "metadata": {},
     "output_type": "execute_result"
    }
   ],
   "source": [
    "data[\"churn\"].value_counts()"
   ]
  },
  {
   "cell_type": "code",
   "execution_count": 7,
   "metadata": {},
   "outputs": [
    {
     "name": "stdout",
     "output_type": "stream",
     "text": [
      "0.7342150170648464\n"
     ]
    }
   ],
   "source": [
    "class_distribution = 5163/(5163+1869)\n",
    "print(class_distribution)"
   ]
  },
  {
   "cell_type": "markdown",
   "metadata": {},
   "source": [
    "# Set features and target value"
   ]
  },
  {
   "cell_type": "code",
   "execution_count": 8,
   "metadata": {},
   "outputs": [],
   "source": [
    "rfecv_features = ['is_male', 'is_senior_citizen', 'has_partner', 'has_dependents',\n",
    "       'tenure', 'has_phone_service', 'has_paperless_billing',\n",
    "       'monthly_charges', 'total_charges', 'has_multiple_lines_No',\n",
    "       'has_multiple_lines_No phone service', 'has_multiple_lines_Yes',\n",
    "       'has_internet_service_DSL', 'has_internet_service_Fiber optic',\n",
    "       'has_internet_service_No', 'has_online_security_No',\n",
    "       'has_online_security_Yes', 'has_online_backup_No internet service',\n",
    "       'has_online_backup_Yes', 'has_device_protection_No',\n",
    "       'has_device_protection_Yes', 'has_tech_support_No',\n",
    "       'has_tech_support_No internet service', 'has_tech_support_Yes',\n",
    "       'has_streaming_TV_No', 'has_streaming_TV_Yes',\n",
    "       'has_streaming_movies_No', 'has_streaming_movies_No internet service',\n",
    "       'has_streaming_movies_Yes', 'contract_Month-to-month',\n",
    "       'contract_One year', 'contract_Two year',\n",
    "       'payment_method_Bank transfer (automatic)',\n",
    "       'payment_method_Credit card (automatic)',\n",
    "       'payment_method_Electronic check', 'payment_method_Mailed check']"
   ]
  },
  {
   "cell_type": "code",
   "execution_count": 9,
   "metadata": {},
   "outputs": [],
   "source": [
    "X = data[rfecv_features]\n",
    "y = data[\"churn\"]"
   ]
  },
  {
   "cell_type": "markdown",
   "metadata": {},
   "source": [
    "# Find the optimum number of estimators (trees) for the Random Forest\n",
    "##### To do this we run a five fold nested cross validation, each time increasing the number of trees by 500 and afterwards print the mean accuracy across the five folds "
   ]
  },
  {
   "cell_type": "code",
   "execution_count": 12,
   "metadata": {},
   "outputs": [],
   "source": [
    "def opt_n_estimators():\n",
    "    estimators = np.arange(10, 10000,500)\n",
    "    accuracy = []\n",
    "    \n",
    "    for e in estimators:\n",
    "        clf = RandomForestClassifier(n_estimators=e, n_jobs=-1, random_state=0)\n",
    "        val_scores = cross_val_score(clf, X, y, cv=5)\n",
    "        mean_accuracy = val_scores.mean()\n",
    "        standard_dev = val_scores.std() * 2\n",
    "        accuracy.append(mean_accuracy)\n",
    "        print(\"Number of estimators: {} \\t\\t Mean accuracy: {} (+/- {})\".format(e, mean_accuracy, standard_dev))\n",
    "    \n",
    "    return(accuracy)"
   ]
  },
  {
   "cell_type": "code",
   "execution_count": 10,
   "metadata": {
    "scrolled": true
   },
   "outputs": [
    {
     "name": "stdout",
     "output_type": "stream",
     "text": [
      "Number of estimators: 100 \t\t Mean accuracy: 0.7875465789476742 (+/- 0.0248245759007599)\n",
      "Number of estimators: 1100 \t\t Mean accuracy: 0.7903905181623911 (+/- 0.02672886513531854)\n",
      "Number of estimators: 2100 \t\t Mean accuracy: 0.7893945835318947 (+/- 0.02106248291762119)\n",
      "Number of estimators: 3100 \t\t Mean accuracy: 0.7889677396121948 (+/- 0.021051001405343668)\n",
      "Number of estimators: 4100 \t\t Mean accuracy: 0.7888262002323275 (+/- 0.02471265503243503)\n",
      "Number of estimators: 5100 \t\t Mean accuracy: 0.7903896081196878 (+/- 0.021608247888854164)\n",
      "Number of estimators: 6100 \t\t Mean accuracy: 0.7891101894665086 (+/- 0.020619122021817805)\n",
      "Number of estimators: 7100 \t\t Mean accuracy: 0.7901063271602223 (+/- 0.02164333478877871)\n",
      "Number of estimators: 8100 \t\t Mean accuracy: 0.789679382140657 (+/- 0.022243496502401018)\n",
      "Number of estimators: 9100 \t\t Mean accuracy: 0.7906743056285845 (+/- 0.021954625935394607)\n"
     ]
    },
    {
     "data": {
      "text/plain": [
       "[0.7875465789476742,\n",
       " 0.7903905181623911,\n",
       " 0.7893945835318947,\n",
       " 0.7889677396121948,\n",
       " 0.7888262002323275,\n",
       " 0.7903896081196878,\n",
       " 0.7891101894665086,\n",
       " 0.7901063271602223,\n",
       " 0.789679382140657,\n",
       " 0.7906743056285845]"
      ]
     },
     "execution_count": 10,
     "metadata": {},
     "output_type": "execute_result"
    }
   ],
   "source": [
    "opt_n_estimators()"
   ]
  },
  {
   "cell_type": "code",
   "execution_count": 13,
   "metadata": {
    "scrolled": true
   },
   "outputs": [
    {
     "name": "stdout",
     "output_type": "stream",
     "text": [
      "Number of estimators: 10 \t\t Mean accuracy: 0.7737491715432692 (+/- 0.016284465866846325)\n",
      "Number of estimators: 510 \t\t Mean accuracy: 0.7889667280378828 (+/- 0.018885142153414847)\n",
      "Number of estimators: 1010 \t\t Mean accuracy: 0.791100239073838 (+/- 0.020901172188557277)\n",
      "Number of estimators: 1510 \t\t Mean accuracy: 0.7911010481605902 (+/- 0.0223661681409541)\n",
      "Number of estimators: 2010 \t\t Mean accuracy: 0.7902473606090192 (+/- 0.022064958257361926)\n",
      "Number of estimators: 2510 \t\t Mean accuracy: 0.7899635734306545 (+/- 0.02153426984213719)\n",
      "Number of estimators: 3010 \t\t Mean accuracy: 0.790105719985372 (+/- 0.022161918894185405)\n",
      "Number of estimators: 3510 \t\t Mean accuracy: 0.7893943809004207 (+/- 0.020642919875843765)\n",
      "Number of estimators: 4010 \t\t Mean accuracy: 0.7896787748218924 (+/- 0.020248518338980934)\n",
      "Number of estimators: 4510 \t\t Mean accuracy: 0.7891102904224596 (+/- 0.020038312408533702)\n",
      "Number of estimators: 5010 \t\t Mean accuracy: 0.7888258965009879 (+/- 0.02042492585956943)\n",
      "Number of estimators: 5510 \t\t Mean accuracy: 0.7893947855877113 (+/- 0.020331766271042672)\n",
      "Number of estimators: 6010 \t\t Mean accuracy: 0.7896791795091829 (+/- 0.02055011190987114)\n",
      "Number of estimators: 6510 \t\t Mean accuracy: 0.7899638770180797 (+/- 0.02167329003986112)\n",
      "Number of estimators: 7010 \t\t Mean accuracy: 0.7898215282636312 (+/- 0.02141557085371511)\n",
      "Number of estimators: 7510 \t\t Mean accuracy: 0.7895372355859394 (+/- 0.0213243423935446)\n",
      "Number of estimators: 8010 \t\t Mean accuracy: 0.7895371343421596 (+/- 0.021232813855697388)\n",
      "Number of estimators: 8510 \t\t Mean accuracy: 0.789679483096608 (+/- 0.021500257564878132)\n",
      "Number of estimators: 9010 \t\t Mean accuracy: 0.789394886831491 (+/- 0.021749510073981307)\n",
      "Number of estimators: 9510 \t\t Mean accuracy: 0.7896790784093175 (+/- 0.021757429987695188)\n"
     ]
    },
    {
     "data": {
      "text/plain": [
       "[0.7737491715432692,\n",
       " 0.7889667280378828,\n",
       " 0.791100239073838,\n",
       " 0.7911010481605902,\n",
       " 0.7902473606090192,\n",
       " 0.7899635734306545,\n",
       " 0.790105719985372,\n",
       " 0.7893943809004207,\n",
       " 0.7896787748218924,\n",
       " 0.7891102904224596,\n",
       " 0.7888258965009879,\n",
       " 0.7893947855877113,\n",
       " 0.7896791795091829,\n",
       " 0.7899638770180797,\n",
       " 0.7898215282636312,\n",
       " 0.7895372355859394,\n",
       " 0.7895371343421596,\n",
       " 0.789679483096608,\n",
       " 0.789394886831491,\n",
       " 0.7896790784093175]"
      ]
     },
     "execution_count": 13,
     "metadata": {},
     "output_type": "execute_result"
    }
   ],
   "source": [
    "opt_n_estimators()"
   ]
  },
  {
   "cell_type": "markdown",
   "metadata": {},
   "source": [
    "### Using 1500 estimators as a base because it delivers high accuracy while being both computer memory and time efficient\n",
    "# Find the optimum value for the \"max_features\" parameter\n",
    "##### max_features affects the number of features taken into consideration at each split. If set to all features, no randomness is injected, if set to 1 randomness is maximized and the model can only vary the threshold for the feature. With a high number for max_features, trees will be more similiar to each other and thus will fit the data more easily --> more prone to overfitting"
   ]
  },
  {
   "cell_type": "code",
   "execution_count": 28,
   "metadata": {},
   "outputs": [],
   "source": [
    "acc_features = []"
   ]
  },
  {
   "cell_type": "code",
   "execution_count": 29,
   "metadata": {},
   "outputs": [],
   "source": [
    "\n",
    "def opt_max_features():\n",
    "    max_features = np.arange(1, 36, 1)\n",
    "\n",
    "    for feature in max_features:\n",
    "        clf = RandomForestClassifier(n_estimators=1500, n_jobs=-1, random_state=0, max_features=feature)\n",
    "        val_scores = cross_val_score(clf, X, y, cv=5)\n",
    "        mean_accuracy = val_scores.mean()\n",
    "        standard_dev = val_scores.std() * 2\n",
    "        acc_features.append(mean_accuracy)\n",
    "        print(\"Number of features: {} \\t\\t Mean accuracy: {} (+/- {})\".format(feature, mean_accuracy, standard_dev))\n",
    "        \n",
    "    return(acc_features)"
   ]
  },
  {
   "cell_type": "code",
   "execution_count": 30,
   "metadata": {
    "scrolled": true
   },
   "outputs": [
    {
     "name": "stdout",
     "output_type": "stream",
     "text": [
      "Number of features: 1 \t\t Mean accuracy: 0.7841315248661361 (+/- 0.022809355277730148)\n",
      "Number of features: 2 \t\t Mean accuracy: 0.7874027129756723 (+/- 0.02365484803784758)\n",
      "Number of features: 3 \t\t Mean accuracy: 0.7879718046938697 (+/- 0.02152533452842791)\n",
      "Number of features: 4 \t\t Mean accuracy: 0.7891094814796218 (+/- 0.017876947462134248)\n",
      "Number of features: 5 \t\t Mean accuracy: 0.7909585983062766 (+/- 0.02144492283280446)\n",
      "Number of features: 6 \t\t Mean accuracy: 0.7905321592177815 (+/- 0.022515828827768345)\n",
      "Number of features: 7 \t\t Mean accuracy: 0.7888264024320584 (+/- 0.0229243109627515)\n",
      "Number of features: 8 \t\t Mean accuracy: 0.7879712977553984 (+/- 0.023100569013311315)\n",
      "Number of features: 9 \t\t Mean accuracy: 0.7872604648893461 (+/- 0.01846343102234642)\n",
      "Number of features: 10 \t\t Mean accuracy: 0.7875443533114905 (+/- 0.019320240188984983)\n",
      "Number of features: 11 \t\t Mean accuracy: 0.7876879154082388 (+/- 0.021806946013522677)\n",
      "Number of features: 12 \t\t Mean accuracy: 0.785553999684993 (+/- 0.019488898418021313)\n",
      "Number of features: 13 \t\t Mean accuracy: 0.7862646307830575 (+/- 0.019086734374481846)\n",
      "Number of features: 14 \t\t Mean accuracy: 0.7868323059518236 (+/- 0.019509571978039698)\n",
      "Number of features: 15 \t\t Mean accuracy: 0.7886819287095486 (+/- 0.01969788482462656)\n",
      "Number of features: 16 \t\t Mean accuracy: 0.7855530893544609 (+/- 0.01993691960965165)\n",
      "Number of features: 17 \t\t Mean accuracy: 0.7879698817816246 (+/- 0.020640541794153748)\n",
      "Number of features: 18 \t\t Mean accuracy: 0.786121371698077 (+/- 0.017610306161726156)\n",
      "Number of features: 19 \t\t Mean accuracy: 0.784841548213693 (+/- 0.017124270489191594)\n",
      "Number of features: 20 \t\t Mean accuracy: 0.786121472654028 (+/- 0.018479694259513135)\n",
      "Number of features: 21 \t\t Mean accuracy: 0.7842735694575019 (+/- 0.01851297040882709)\n",
      "Number of features: 22 \t\t Mean accuracy: 0.7856949324656677 (+/- 0.016614169413195344)\n",
      "Number of features: 23 \t\t Mean accuracy: 0.7845584695978727 (+/- 0.0163423568591692)\n",
      "Number of features: 24 \t\t Mean accuracy: 0.783845916594964 (+/- 0.01721273988615795)\n",
      "Number of features: 25 \t\t Mean accuracy: 0.783705085345898 (+/- 0.019388551064844915)\n",
      "Number of features: 26 \t\t Mean accuracy: 0.7831348809535233 (+/- 0.018327327029403526)\n",
      "Number of features: 27 \t\t Mean accuracy: 0.7829933418614848 (+/- 0.015218698897404473)\n",
      "Number of features: 28 \t\t Mean accuracy: 0.7835617248732232 (+/- 0.018374067053658495)\n",
      "Number of features: 29 \t\t Mean accuracy: 0.7828518024816175 (+/- 0.014837530052205828)\n",
      "Number of features: 30 \t\t Mean accuracy: 0.7814290233557635 (+/- 0.011507084998328275)\n",
      "Number of features: 31 \t\t Mean accuracy: 0.7811440226911848 (+/- 0.01232302260364498)\n",
      "Number of features: 32 \t\t Mean accuracy: 0.7818555636880383 (+/- 0.013298254922893998)\n",
      "Number of features: 33 \t\t Mean accuracy: 0.7801492000152938 (+/- 0.013826620900209384)\n",
      "Number of features: 34 \t\t Mean accuracy: 0.7811448316340227 (+/- 0.014047605096969243)\n",
      "Number of features: 35 \t\t Mean accuracy: 0.781855766175598 (+/- 0.012726519232097517)\n"
     ]
    },
    {
     "data": {
      "text/plain": [
       "[0.7841315248661361,\n",
       " 0.7874027129756723,\n",
       " 0.7879718046938697,\n",
       " 0.7891094814796218,\n",
       " 0.7909585983062766,\n",
       " 0.7905321592177815,\n",
       " 0.7888264024320584,\n",
       " 0.7879712977553984,\n",
       " 0.7872604648893461,\n",
       " 0.7875443533114905,\n",
       " 0.7876879154082388,\n",
       " 0.785553999684993,\n",
       " 0.7862646307830575,\n",
       " 0.7868323059518236,\n",
       " 0.7886819287095486,\n",
       " 0.7855530893544609,\n",
       " 0.7879698817816246,\n",
       " 0.786121371698077,\n",
       " 0.784841548213693,\n",
       " 0.786121472654028,\n",
       " 0.7842735694575019,\n",
       " 0.7856949324656677,\n",
       " 0.7845584695978727,\n",
       " 0.783845916594964,\n",
       " 0.783705085345898,\n",
       " 0.7831348809535233,\n",
       " 0.7829933418614848,\n",
       " 0.7835617248732232,\n",
       " 0.7828518024816175,\n",
       " 0.7814290233557635,\n",
       " 0.7811440226911848,\n",
       " 0.7818555636880383,\n",
       " 0.7801492000152938,\n",
       " 0.7811448316340227,\n",
       " 0.781855766175598]"
      ]
     },
     "execution_count": 30,
     "metadata": {},
     "output_type": "execute_result"
    }
   ],
   "source": [
    "opt_max_features()"
   ]
  },
  {
   "cell_type": "code",
   "execution_count": 32,
   "metadata": {},
   "outputs": [
    {
     "data": {
      "image/png": "[encoded data removed]",
      "text/plain": [
       "<Figure size 432x288 with 1 Axes>"
      ]
     },
     "metadata": {},
     "output_type": "display_data"
    }
   ],
   "source": [
    "sns.set()\n",
    "plt.figure()\n",
    "plt.xlabel(\"Number of features selected\")\n",
    "plt.ylabel(\"Cross validation score (accuracy)\") \n",
    "plt.plot(range(1, len(acc_features) + 1), acc_features)\n",
    "plt.show()"
   ]
  },
  {
   "cell_type": "markdown",
   "metadata": {},
   "source": [
    "### The highest accuracy is achieved when the max_features parameter is set to 5, therefore, this will be used from now on\n",
    "# Find the optimum depth for the trees\n",
    "##### The \"max_depth\" parameter specifies how often a tree can split itself up until it stops. the deeper the tree, the purer the nodes become. This increases the fit to the dataset but also encourages overfitting."
   ]
  },
  {
   "cell_type": "code",
   "execution_count": 38,
   "metadata": {},
   "outputs": [],
   "source": [
    "acc_depth = []\n",
    "\n",
    "def opt_max_depth():\n",
    "    depth = np.arange(1, 20, 1)\n",
    "    \n",
    "    for d in depth:\n",
    "        clf = RandomForestClassifier(n_estimators=1500, max_features=5, n_jobs=-1, random_state=0, max_depth=d)\n",
    "        val_scores = cross_val_score(clf, X, y, cv=5)\n",
    "        mean_accuracy = val_scores.mean()\n",
    "        standard_dev = val_scores.std() * 2\n",
    "        acc_depth.append(mean_accuracy)\n",
    "        print(\"Depth: {} \\t\\t Mean accuracy: {} (+/- {})\".format(d, mean_accuracy, standard_dev))\n",
    "        \n",
    "    return(acc_depth)"
   ]
  },
  {
   "cell_type": "code",
   "execution_count": 39,
   "metadata": {
    "scrolled": true
   },
   "outputs": [
    {
     "name": "stdout",
     "output_type": "stream",
     "text": [
      "Depth: 1 \t\t Mean accuracy: 0.7342150726795958 (+/- 0.0003378844320375541)\n",
      "Depth: 2 \t\t Mean accuracy: 0.7542653031223476 (+/- 0.008277556001910304)\n",
      "Depth: 3 \t\t Mean accuracy: 0.7849861228921536 (+/- 0.011478351585894941)\n",
      "Depth: 4 \t\t Mean accuracy: 0.7922382194470152 (+/- 0.016179999361387577)\n",
      "Depth: 5 \t\t Mean accuracy: 0.7947977650280892 (+/- 0.018170806841329466)\n",
      "Depth: 6 \t\t Mean accuracy: 0.7986369317499021 (+/- 0.02056410913582979)\n",
      "Depth: 7 \t\t Mean accuracy: 0.8020492546959297 (+/- 0.023916393866236178)\n",
      "Depth: 8 \t\t Mean accuracy: 0.8024751884290117 (+/- 0.021666350174521135)\n",
      "Depth: 9 \t\t Mean accuracy: 0.8006265768138554 (+/- 0.02311109291097302)\n",
      "Depth: 10 \t\t Mean accuracy: 0.8007684196372334 (+/- 0.023415540364603835)\n",
      "Depth: 11 \t\t Mean accuracy: 0.7980668287452217 (+/- 0.0219529037399826)\n",
      "Depth: 12 \t\t Mean accuracy: 0.7967880171229784 (+/- 0.020960835651485574)\n",
      "Depth: 13 \t\t Mean accuracy: 0.793943976088824 (+/- 0.01931019464276135)\n",
      "Depth: 14 \t\t Mean accuracy: 0.7918113753834011 (+/- 0.021450995488254375)\n",
      "Depth: 15 \t\t Mean accuracy: 0.7916685211296255 (+/- 0.019904404091933933)\n",
      "Depth: 16 \t\t Mean accuracy: 0.7889669303815282 (+/- 0.019755343805840965)\n",
      "Depth: 17 \t\t Mean accuracy: 0.7905328673485827 (+/- 0.023181924327240193)\n",
      "Depth: 18 \t\t Mean accuracy: 0.7888250871264069 (+/- 0.022667485404504795)\n",
      "Depth: 19 \t\t Mean accuracy: 0.7892519311900212 (+/- 0.02049914137207554)\n"
     ]
    },
    {
     "data": {
      "text/plain": [
       "[0.7342150726795958,\n",
       " 0.7542653031223476,\n",
       " 0.7849861228921536,\n",
       " 0.7922382194470152,\n",
       " 0.7947977650280892,\n",
       " 0.7986369317499021,\n",
       " 0.8020492546959297,\n",
       " 0.8024751884290117,\n",
       " 0.8006265768138554,\n",
       " 0.8007684196372334,\n",
       " 0.7980668287452217,\n",
       " 0.7967880171229784,\n",
       " 0.793943976088824,\n",
       " 0.7918113753834011,\n",
       " 0.7916685211296255,\n",
       " 0.7889669303815282,\n",
       " 0.7905328673485827,\n",
       " 0.7888250871264069,\n",
       " 0.7892519311900212]"
      ]
     },
     "execution_count": 39,
     "metadata": {},
     "output_type": "execute_result"
    }
   ],
   "source": [
    "opt_max_depth()"
   ]
  },
  {
   "cell_type": "code",
   "execution_count": 40,
   "metadata": {},
   "outputs": [
    {
     "data": {
      "image/png": "[encoded data removed]",
      "text/plain": [
       "<Figure size 432x288 with 1 Axes>"
      ]
     },
     "metadata": {},
     "output_type": "display_data"
    }
   ],
   "source": [
    "sns.set()\n",
    "plt.figure()\n",
    "plt.xlabel(\"Max depth\")\n",
    "plt.ylabel(\"Cross validation score (accuracy)\") \n",
    "plt.plot(range(1, len(acc_depth) + 1), acc_depth)\n",
    "plt.show()"
   ]
  },
  {
   "cell_type": "markdown",
   "metadata": {},
   "source": [
    "### A depth of 8 achieves the maximum accuracy. Therefore the final Forest will have the following parameters:\n",
    "##### n_estimators = 1500\n",
    "##### max_features = 5\n",
    "##### max_depth = 8\n",
    "# Building the final tree with a training and a test split"
   ]
  },
  {
   "cell_type": "code",
   "execution_count": 10,
   "metadata": {},
   "outputs": [
    {
     "data": {
      "text/plain": [
       "RandomForestClassifier(bootstrap=True, class_weight=None, criterion='gini',\n",
       "            max_depth=8, max_features=5, max_leaf_nodes=None,\n",
       "            min_impurity_decrease=0.0, min_impurity_split=None,\n",
       "            min_samples_leaf=1, min_samples_split=2,\n",
       "            min_weight_fraction_leaf=0.0, n_estimators=1500, n_jobs=-1,\n",
       "            oob_score=False, random_state=0, verbose=0, warm_start=False)"
      ]
     },
     "execution_count": 10,
     "metadata": {},
     "output_type": "execute_result"
    }
   ],
   "source": [
    "X_train, X_test, y_train, y_test = train_test_split(X, y, random_state=0)\n",
    "rf = RandomForestClassifier(n_estimators=1500, max_features=5, max_depth=8, n_jobs=-1, random_state=0)\n",
    "rf.fit(X_train, y_train)"
   ]
  },
  {
   "cell_type": "code",
   "execution_count": 11,
   "metadata": {},
   "outputs": [],
   "source": [
    "y_true = y_test\n",
    "y_pred = rf.predict(X_test)"
   ]
  },
  {
   "cell_type": "markdown",
   "metadata": {},
   "source": [
    "# Model Evaluation - Confusion Matrix and Expected Value"
   ]
  },
  {
   "cell_type": "code",
   "execution_count": 12,
   "metadata": {},
   "outputs": [],
   "source": [
    "matrix = confusion_matrix(y_true, y_pred, labels=[\"Yes\", \"No\"])"
   ]
  },
  {
   "cell_type": "code",
   "execution_count": 14,
   "metadata": {},
   "outputs": [],
   "source": [
    "conf_matrix = pd.DataFrame({'Yes':matrix[:,0],'No':matrix[:,1]}, index=[\"Positive\", \"Negative\"])"
   ]
  },
  {
   "cell_type": "code",
   "execution_count": 15,
   "metadata": {},
   "outputs": [
    {
     "data": {
      "text/html": [
       "<div>\n",
       "<style scoped>\n",
       "    .dataframe tbody tr th:only-of-type {\n",
       "        vertical-align: middle;\n",
       "    }\n",
       "\n",
       "    .dataframe tbody tr th {\n",
       "        vertical-align: top;\n",
       "    }\n",
       "\n",
       "    .dataframe thead th {\n",
       "        text-align: right;\n",
       "    }\n",
       "</style>\n",
       "<table border=\"1\" class=\"dataframe\">\n",
       "  <thead>\n",
       "    <tr style=\"text-align: right;\">\n",
       "      <th></th>\n",
       "      <th>Yes</th>\n",
       "      <th>No</th>\n",
       "    </tr>\n",
       "  </thead>\n",
       "  <tbody>\n",
       "    <tr>\n",
       "      <th>Positive</th>\n",
       "      <td>222</td>\n",
       "      <td>225</td>\n",
       "    </tr>\n",
       "    <tr>\n",
       "      <th>Negative</th>\n",
       "      <td>117</td>\n",
       "      <td>1194</td>\n",
       "    </tr>\n",
       "  </tbody>\n",
       "</table>\n",
       "</div>"
      ],
      "text/plain": [
       "          Yes    No\n",
       "Positive  222   225\n",
       "Negative  117  1194"
      ]
     },
     "execution_count": 15,
     "metadata": {},
     "output_type": "execute_result"
    }
   ],
   "source": [
    "conf_matrix"
   ]
  },
  {
   "cell_type": "code",
   "execution_count": 60,
   "metadata": {},
   "outputs": [],
   "source": [
    "tn, fp, fn, tp = confusion_matrix(y_true, y_pred).ravel()"
   ]
  },
  {
   "cell_type": "code",
   "execution_count": 63,
   "metadata": {},
   "outputs": [
    {
     "name": "stdout",
     "output_type": "stream",
     "text": [
      "0.25426621160409557\n"
     ]
    }
   ],
   "source": [
    "positive_rate = (tp + fn) / y_true.count()\n",
    "negative_rate = (fp + tn) / y_true.count()\n",
    "print(positive_rate)"
   ]
  },
  {
   "cell_type": "code",
   "execution_count": 64,
   "metadata": {},
   "outputs": [
    {
     "name": "stdout",
     "output_type": "stream",
     "text": [
      "0.4966442953020134\n",
      "0.08924485125858124\n",
      "0.5033557046979866\n",
      "0.9107551487414187\n"
     ]
    }
   ],
   "source": [
    "tp_rate = tp/ (tp + fn)\n",
    "fp_rate = fp/ (fp + tn)\n",
    "fn_rate = fn/ (tp + fn) \n",
    "tn_rate = tn/ (fp + tn)\n",
    "print(tp_rate)\n",
    "print(fp_rate)\n",
    "print(fn_rate)\n",
    "print(tn_rate)"
   ]
  },
  {
   "cell_type": "code",
   "execution_count": null,
   "metadata": {},
   "outputs": [],
   "source": []
  }
 ],
 "metadata": {
  "kernelspec": {
   "display_name": "Python 3",
   "language": "python",
   "name": "python3"
  },
  "language_info": {
   "codemirror_mode": {
    "name": "ipython",
    "version": 3
   },
   "file_extension": ".py",
   "mimetype": "text/x-python",
   "name": "python",
   "nbconvert_exporter": "python",
   "pygments_lexer": "ipython3",
   "version": "3.7.1"
  }
 },
 "nbformat": 4,
 "nbformat_minor": 2
}
